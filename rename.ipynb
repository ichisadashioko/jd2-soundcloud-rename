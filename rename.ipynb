{
 "cells": [
  {
   "cell_type": "code",
   "execution_count": 1,
   "metadata": {},
   "outputs": [],
   "source": [
    "import os\n",
    "import shutil\n",
    "import re"
   ]
  },
  {
   "cell_type": "code",
   "execution_count": 2,
   "metadata": {},
   "outputs": [
    {
     "data": {
      "text/plain": [
       "True"
      ]
     },
     "execution_count": 2,
     "metadata": {},
     "output_type": "execute_result"
    }
   ],
   "source": [
    "root = 'D:/Downloads/The AI Podcast - The AI Podcast'\n",
    "os.path.exists(root)"
   ]
  },
  {
   "cell_type": "code",
   "execution_count": 3,
   "metadata": {},
   "outputs": [
    {
     "data": {
      "text/plain": [
       "['A Conversation About Go, Sci-Fi, Deep Learning and Computational Chemistry - Ep. 54_432240651 - The AI Podcast.mp3',\n",
       " \"A Conversation with the Entrepreneur Behind the World's Most Realistic Artificial Voices - Ep. 73_533486289 - The AI Podcast.mp3\",\n",
       " \"A Man, a GAN, and a 1080 Ti; How Jason Antic Created 'De-Oldify'  - Ep. 76_556350426 - The AI Podcast.mp3\",\n",
       " 'A USB Port for Your Body¿ Startup Uses AI to Connect Medical Devices to Nervous System - Ep. 59_444474210 - The AI Podcast.mp3',\n",
       " 'A-High; How Grownetics Automates Cannabis Cultivation with Deep Learning - Ep. 86_624422646 - The AI Podcast.mp3',\n",
       " 'AI Startup Brings Computer Vision to Customer Service - Ep. 102_705238864 - The AI Podcast.mp3',\n",
       " 'Anthem Could Have Healthcare Industry Singing a New Tune - Ep. 89_642179742 - The AI Podcast.mp3',\n",
       " 'Astronomers Turn to AI as New Telescopes Come Online - Ep. 84_614526855 - The AI Podcast.mp3',\n",
       " \"AutoX's Professor X on the State of Automotive Autonomy - Ep. 87_624446466 - The AI Podcast.mp3\",\n",
       " 'Clean Sweep; Tokyo Robotics Company Builds Tidying Robots - Ep. 101_701332282 - The AI Podcast.mp3']"
      ]
     },
     "execution_count": 3,
     "metadata": {},
     "output_type": "execute_result"
    }
   ],
   "source": [
    "file_list = os.listdir(root)\n",
    "file_list[:10]"
   ]
  },
  {
   "cell_type": "code",
   "execution_count": 9,
   "metadata": {},
   "outputs": [
    {
     "data": {
      "text/plain": [
       "['A Conversation About Go, Sci-Fi, Deep Learning and Computational Chemistry - Ep. 54_432240651 - The AI Podcast.mp3',\n",
       " \"A Conversation with the Entrepreneur Behind the World's Most Realistic Artificial Voices - Ep. 73_533486289 - The AI Podcast.mp3\",\n",
       " \"A Man, a GAN, and a 1080 Ti; How Jason Antic Created 'De-Oldify'  - Ep. 76_556350426 - The AI Podcast.mp3\",\n",
       " 'A USB Port for Your Body¿ Startup Uses AI to Connect Medical Devices to Nervous System - Ep. 59_444474210 - The AI Podcast.mp3',\n",
       " 'A-High; How Grownetics Automates Cannabis Cultivation with Deep Learning - Ep. 86_624422646 - The AI Podcast.mp3',\n",
       " 'AI Startup Brings Computer Vision to Customer Service - Ep. 102_705238864 - The AI Podcast.mp3',\n",
       " 'Anthem Could Have Healthcare Industry Singing a New Tune - Ep. 89_642179742 - The AI Podcast.mp3',\n",
       " 'Astronomers Turn to AI as New Telescopes Come Online - Ep. 84_614526855 - The AI Podcast.mp3',\n",
       " \"AutoX's Professor X on the State of Automotive Autonomy - Ep. 87_624446466 - The AI Podcast.mp3\",\n",
       " 'Clean Sweep; Tokyo Robotics Company Builds Tidying Robots - Ep. 101_701332282 - The AI Podcast.mp3',\n",
       " 'Cycle of DOOM Now Complete; Researchers Use AI to Generate New Levels for Seminal Videogame - Ep. 69_502348308 - The AI Podcast.mp3',\n",
       " 'Dial A for AI; Charter Boosts Customer Service with AI - Ep. 95_676638071 - The AI Podcast.mp3',\n",
       " 'Doc.ai CEO Walter De Brouwer on How Federated Learning Can Help Keep Data Private- Ep. 94_655486025 - The AI Podcast.wav',\n",
       " 'Ep. 10; Turning AI Loose on the Track with Roborace_309094666 - The AI Podcast.mp3',\n",
       " 'Ep. 11; How a Computer Scientist Uses AI to Read Lost Literature_310246131 - The AI Podcast.mp3',\n",
       " 'Ep. 12; How AI Can Improve the Diagnosis and Treatment of Diseases_311447378 - The AI Podcast.mp3',\n",
       " 'Ep. 13; How AI Can Improve Brain Tumor Treatment_312618360 - The AI Podcast.mp3',\n",
       " 'Ep. 14; AI Takes Wing – Deep Learning Hears Once Extinct Bird_314044823 - The AI Podcast.mp3',\n",
       " \"Ep. 15; How AI Beat the Pros at Texas Hold'em, and Why It Matters_315163450 - The AI Podcast.mp3\",\n",
       " 'Ep. 16; Growth Opportunity - How AI Puts Lettuce in Your Salad Bowl_316349625 - The AI Podcast.mp3',\n",
       " 'Ep. 17; Training an AI to Play Mario Kart 64_317577433 - The AI Podcast.mp3',\n",
       " 'Ep. 18; How AI Learns Racism, Sexism_319471380 - The AI Podcast.mp3',\n",
       " 'Ep. 19; AI Food Delivery Bots Rolling Through San Francisco_320821045 - The AI Podcast.mp3',\n",
       " 'Ep. 1; Deep Learning 101 - Will Ramey, NVIDIA Senior Manager for GPU Computing_295616968 - The AI Podcast.mp3',\n",
       " 'Ep. 20; Live at GTC - How AI Will Bring More Joy to Your Cooking_322157062 - The AI Podcast.mp3',\n",
       " 'Ep. 22; Kitt.ai Co-Founder on How AI Lets Us Talk with Our Machines_323102639 - The AI Podcast.mp3',\n",
       " 'Ep. 23; How Airbus A³ Plans to Bring Autonomous Air Taxis to Urban Skies_324346780 - The AI Podcast.mp3',\n",
       " 'Ep. 24; How Yahoo Uses AI to Create Instant eSports Highlight Reels_325397036 - The AI Podcast.mp3',\n",
       " \"Ep. 25; Google's Ian Goodfellow on How an Argument in a Bar Led to Generative Adversarial Networks_326749576 - The AI Podcast.mp3\",\n",
       " 'Ep. 26; Deep Learning Promises to Bring Algorithmic Investing Smarts to the Rest of Us_328080023 - The AI Podcast.mp3',\n",
       " 'Ep. 27; Danny Lange, of Unity Technologies, on How AI Can Enhance Gaming, and Gaming Can Enhance AI_329452913 - The AI Podcast.mp3',\n",
       " 'Ep. 28; How Syed Ahmed Taught AI to Translate Sign Language_330441342 - The AI Podcast.mp3',\n",
       " \"Ep. 29; TuSimple's Xiaodi Hou Talks About Bringing Driverless Trucks to Highways_332021980 - The AI Podcast.mp3\",\n",
       " 'Ep. 30; Not Hotdog, When Ridiculous AI Fiction Becomes Hilarious Reality_332832097 - The AI Podcast.mp3',\n",
       " 'Ep. 31; Could an AI Win the Nobel Prize¿_333918963 - The AI Podcast.mp3',\n",
       " 'Ep. 32; Deep Learning Pioneer Andrew Ng on AI as the New Electricity_334829522 - The AI Podcast.mp3',\n",
       " 'Ep. 33; Why Warehouses Could Be the Sweet Spot for Flying Robots_336050592 - The AI Podcast.mp3',\n",
       " 'Ep. 34; Pierre Barreau Explains How Aiva Uses Deep Learning to Make Music_337176178 - The AI Podcast.mp3',\n",
       " \"Ep. 35; Jetson Interns Assemble¡ Interns Discuss Amazing AI Robots They're Building_338247148 - The AI Podcast.mp3\",\n",
       " 'Ep. 36; How AI Is Reshaping the Payments Industry_339231366 - The AI Podcast.mp3',\n",
       " 'Ep. 37; Sergey Levine on How Deep Learning Will Unleash a Robotics Revolution_340089852 - The AI Podcast.mp3',\n",
       " 'Ep. 38; Spoiler Alert¡ AI Predicts Next Chapter in Game of Thrones Saga_342299720 - The AI Podcast.mp3',\n",
       " 'Ep. 39; How Tattoodo Uses AI to Help You Find Your Next Tattoo_344389413 - The AI Podcast.mp3',\n",
       " 'Ep. 3; Deep Learning DIY - NVIDIA Engineer Bob Bond, Make; Magazine Executive Editor Mike Senese_296911419 - The AI Podcast.mp3',\n",
       " 'Ep. 40; Using Deep Learning to Scan Your Shopping Basket_348569200 - The AI Podcast.mp3',\n",
       " 'Ep. 41; How Artomatix Uses AI to Generate Infinite Zombie Armies_353224490 - The AI Podcast.mp3',\n",
       " 'Ep. 42; AI Serves Up Feast of Recipes for Thanksgiving (and Beyond)_359727662 - The AI Podcast.mp3',\n",
       " 'Ep. 43; How Vincent AI Uses a Generative Adversarial Network to Let You  Sketch Like Picasso_366364940 - The AI Podcast.mp3',\n",
       " \"Ep. 44; Forget Polls, Here's What Street View, and AI, Can Tell You About How People Will Vote_372522038 - The AI Podcast.mp3\",\n",
       " 'Ep. 45; How to Use AI, and Tinder, to Hack the Dating Scene_375473585 - The AI Podcast.mp3',\n",
       " 'Ep. 46; When AI Meets Sci-Fi - A Talk with Award-Winning Author Ken MacLeod_382280039 - The AI Podcast.mp3',\n",
       " 'Ep. 47; How AI Can Improve Access to Palliative Care_392003178 - The AI Podcast.mp3',\n",
       " 'Ep. 48; Sarcasm Detector Uses AI to Understand People at Their Funniest, Meanest_399792828 - The AI Podcast.mp3',\n",
       " 'Ep. 49; How GoDaddy Uses AI to Help You Master the Value of Your Domain Name_392018058 - The AI Podcast.mp3',\n",
       " 'Ep. 4; How AI Will Revolutionize Driving — Danny Shapiro, NVIDIA_299075058 - The AI Podcast.mp3',\n",
       " 'Ep. 50; How Deep Learning Can Make Your Lawyer More Productive_418755300 - The AI Podcast.mp3',\n",
       " 'Ep. 51; Live at GTC - Deep Learning Can Save Lives by Predicting Severe Weather_421630005 - The AI Podcast.mp3',\n",
       " 'Ep. 52; Live at GTC - How Deep Learning Can Fight Cancer_423857382 - The AI Podcast.mp3',\n",
       " 'Ep. 5; How Deep Learning Will Reshape Our Cities_302227896 - The AI Podcast.mp3',\n",
       " 'Ep. 6; How AI Turns Kiddie Cars Into Autonomous Racers_303348017 - The AI Podcast.mp3',\n",
       " 'Ep. 7; How Humans Bias AI - Narrative Science Chief Scientist Kris Hammond_304547257 - The AI Podcast.mp3',\n",
       " 'Ep. 8; Better Beer Through AI_305680638 - The AI Podcast.mp3',\n",
       " 'Ep. 9; Winning the Cybersecurity Cat and Mouse Game with AI_306799657 - The AI Podcast.mp3',\n",
       " 'Focal Systems Brings AI to Grocery Stores - Ep. 97_682966523 - The AI Podcast.mp3',\n",
       " 'Forget Storming Area 51, AI’s Helping Astronomers Scour the Skies for Habitable Planets - Ep. 93_662196161 - The AI Podcast.mp3',\n",
       " 'GauGAN Rocket Man; Conceptual Artist Uses AI Tools for Sci-Fi Modeling - Ep. 99_690065029 - The AI Podcast.mp3',\n",
       " 'Get Your Fashion Fix; Stitch Fix Adds AI Flair to Your Closet - Ep. 91_645582363 - The AI Podcast.mp3',\n",
       " 'Good News About Fake News; AI Can Now Help Detect False Information - Ep. 74_539956314 - The AI Podcast.wav',\n",
       " 'Grab and Go; Startup AiFi Using Deep Learning to Make Every Store Smarter - Ep. 56_438683346 - The AI Podcast.mp3',\n",
       " 'How AI Helps GOAT Keep Sneakerheads a Step Ahead - Ep. 79_581410521 - The AI Podcast.wav.part',\n",
       " \"How AI's Storming the Fashion Industry - Ep. 61_454828680 - The AI Podcast.wav\",\n",
       " 'How Deep Learning Can Accelerate the Quest for Cheap, Clean Fusion Energy - Ep. 55_435221490 - The AI Podcast.mp3',\n",
       " 'How Deep Learning Powered Cartman to Victory in the 2017 Amazon Robotics Challenge - Ep. 53_428376591 - The AI Podcast.mp3',\n",
       " 'How Intuit Uses Deep Learning to Help You with Your Taxes - Ep. 71_519141165 - The AI Podcast.mp3',\n",
       " 'How Nuance Brings AI to Healthcare - Ep. 78_575356416 - The AI Podcast.mp3',\n",
       " 'How SoundHound Uses AI to Bring Voice and Music Recognition to Any Platform - Ep. 75_548027694 - The AI Podcast.mp3',\n",
       " 'How the Breakthrough Listen Harnessed AI in the Search for Aliens - Ep. 81_598105551 - The AI Podcast.mp3',\n",
       " 'Investor, AI Pioneer Kai-Fu Lee on the Future of AI in the US, China - Ep. 72_525762432 - The AI Podcast.wav.part',\n",
       " 'Kiwibots Bring Sustenance to Students - Ep. 96_679291599 - The AI Podcast.mp3',\n",
       " \"Making 'Iron Man' Interface Real; AI-Based Virtualitics Demystifies Data Science with VR - Ep. 92_658647725 - The AI Podcast.mp3.part\",\n",
       " \"Netflix's Justin Basilico on How Entertainment and AI Intersect - Ep. 60_447646695 - The AI Podcast.mp3\"]"
      ]
     },
     "execution_count": 9,
     "metadata": {},
     "output_type": "execute_result"
    }
   ],
   "source": [
    "file_list"
   ]
  },
  {
   "cell_type": "code",
   "execution_count": 4,
   "metadata": {},
   "outputs": [
    {
     "data": {
      "text/plain": [
       "'A Conversation About Go, Sci-Fi, Deep Learning and Computational Chemistry - Ep. 54_432240651 - The AI Podcast.mp3'"
      ]
     },
     "execution_count": 4,
     "metadata": {},
     "output_type": "execute_result"
    }
   ],
   "source": [
    "fname = file_list[0]\n",
    "fname"
   ]
  },
  {
   "cell_type": "code",
   "execution_count": 5,
   "metadata": {},
   "outputs": [
    {
     "data": {
      "text/plain": [
       "('A Conversation About Go, Sci-Fi, Deep Learning and Computational Chemistry - Ep. 54_432240651 - The AI Podcast',\n",
       " '.mp3')"
      ]
     },
     "execution_count": 5,
     "metadata": {},
     "output_type": "execute_result"
    }
   ],
   "source": [
    "base_name, ext = os.path.splitext(fname)\n",
    "base_name, ext"
   ]
  },
  {
   "cell_type": "code",
   "execution_count": 6,
   "metadata": {},
   "outputs": [
    {
     "data": {
      "text/plain": [
       "['A Conversation About Go, Sci-Fi, Deep Learning and Computational Chemistry - Ep. 54',\n",
       " '432240651 - The AI Podcast']"
      ]
     },
     "execution_count": 6,
     "metadata": {},
     "output_type": "execute_result"
    }
   ],
   "source": [
    "base_name.split('_')"
   ]
  },
  {
   "cell_type": "code",
   "execution_count": 7,
   "metadata": {},
   "outputs": [],
   "source": [
    "def rename_ai_podcast(root):\n",
    "    file_list = os.listdir(root)\n",
    "    for fname in file_list:\n",
    "        base_name, ext = os.path.splitext(fname)\n",
    "        bname_list = base_name.split('_')\n",
    "        if not len(bname_list) == 2:\n",
    "            print(fname)"
   ]
  },
  {
   "cell_type": "code",
   "execution_count": 8,
   "metadata": {},
   "outputs": [],
   "source": [
    "rename_ai_podcast(root)"
   ]
  }
 ],
 "metadata": {
  "kernelspec": {
   "display_name": "Python 3",
   "language": "python",
   "name": "python3"
  },
  "language_info": {
   "codemirror_mode": {
    "name": "ipython",
    "version": 3
   },
   "file_extension": ".py",
   "mimetype": "text/x-python",
   "name": "python",
   "nbconvert_exporter": "python",
   "pygments_lexer": "ipython3",
   "version": "3.7.3"
  }
 },
 "nbformat": 4,
 "nbformat_minor": 2
}
